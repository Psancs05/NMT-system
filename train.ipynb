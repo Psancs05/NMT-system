{
 "cells": [
  {
   "cell_type": "code",
   "execution_count": null,
   "metadata": {},
   "outputs": [
    {
     "name": "stdout",
     "output_type": "stream",
     "text": [
      "Mounted at /content/drive\n"
     ]
    }
   ],
   "source": [
    "from google.colab import drive\n",
    "drive.mount('/content/drive', force_remount=True)"
   ]
  },
  {
   "cell_type": "code",
   "execution_count": null,
   "metadata": {},
   "outputs": [
    {
     "name": "stdout",
     "output_type": "stream",
     "text": [
      "/content/drive/.shortcut-targets-by-id/1SmZYQ5FtbDJftz-DFi07WmU23UAjYJGL/TFG/Pruebas ejecucion\n"
     ]
    }
   ],
   "source": [
    "%cd drive/MyDrive/TFG/Pruebas ejecucion"
   ]
  },
  {
   "cell_type": "code",
   "execution_count": null,
   "metadata": {},
   "outputs": [
    {
     "name": "stdout",
     "output_type": "stream",
     "text": [
      "Reading package lists... Done\n",
      "Building dependency tree       \n",
      "Reading state information... Done\n",
      "libcudnn8 is already the newest version (8.7.0.84-1+cuda11.8).\n",
      "0 upgraded, 0 newly installed, 0 to remove and 23 not upgraded.\n",
      "Looking in indexes: https://pypi.org/simple, https://us-python.pkg.dev/colab-wheels/public/simple/\n",
      "Requirement already satisfied: tensorflow in /usr/local/lib/python3.10/dist-packages (2.12.0)\n",
      "Requirement already satisfied: keras in /usr/local/lib/python3.10/dist-packages (2.12.0)\n",
      "Requirement already satisfied: tensorflow-estimator in /usr/local/lib/python3.10/dist-packages (2.12.0)\n",
      "Collecting tensorflow-text\n",
      "  Downloading tensorflow_text-2.12.1-cp310-cp310-manylinux_2_17_x86_64.manylinux2014_x86_64.whl (6.0 MB)\n",
      "\u001b[2K     \u001b[90m━━━━━━━━━━━━━━━━━━━━━━━━━━━━━━━━━━━━━━━━\u001b[0m \u001b[32m6.0/6.0 MB\u001b[0m \u001b[31m103.1 MB/s\u001b[0m eta \u001b[36m0:00:00\u001b[0m\n",
      "\u001b[?25hRequirement already satisfied: absl-py>=1.0.0 in /usr/local/lib/python3.10/dist-packages (from tensorflow) (1.4.0)\n",
      "Requirement already satisfied: astunparse>=1.6.0 in /usr/local/lib/python3.10/dist-packages (from tensorflow) (1.6.3)\n",
      "Requirement already satisfied: flatbuffers>=2.0 in /usr/local/lib/python3.10/dist-packages (from tensorflow) (23.3.3)\n",
      "Requirement already satisfied: gast<=0.4.0,>=0.2.1 in /usr/local/lib/python3.10/dist-packages (from tensorflow) (0.4.0)\n",
      "Requirement already satisfied: google-pasta>=0.1.1 in /usr/local/lib/python3.10/dist-packages (from tensorflow) (0.2.0)\n",
      "Requirement already satisfied: grpcio<2.0,>=1.24.3 in /usr/local/lib/python3.10/dist-packages (from tensorflow) (1.54.0)\n",
      "Requirement already satisfied: h5py>=2.9.0 in /usr/local/lib/python3.10/dist-packages (from tensorflow) (3.8.0)\n",
      "Requirement already satisfied: jax>=0.3.15 in /usr/local/lib/python3.10/dist-packages (from tensorflow) (0.4.8)\n",
      "Requirement already satisfied: libclang>=13.0.0 in /usr/local/lib/python3.10/dist-packages (from tensorflow) (16.0.0)\n",
      "Requirement already satisfied: numpy<1.24,>=1.22 in /usr/local/lib/python3.10/dist-packages (from tensorflow) (1.22.4)\n",
      "Requirement already satisfied: opt-einsum>=2.3.2 in /usr/local/lib/python3.10/dist-packages (from tensorflow) (3.3.0)\n",
      "Requirement already satisfied: packaging in /usr/local/lib/python3.10/dist-packages (from tensorflow) (23.1)\n",
      "Requirement already satisfied: protobuf!=4.21.0,!=4.21.1,!=4.21.2,!=4.21.3,!=4.21.4,!=4.21.5,<5.0.0dev,>=3.20.3 in /usr/local/lib/python3.10/dist-packages (from tensorflow) (3.20.3)\n",
      "Requirement already satisfied: setuptools in /usr/local/lib/python3.10/dist-packages (from tensorflow) (67.7.2)\n",
      "Requirement already satisfied: six>=1.12.0 in /usr/local/lib/python3.10/dist-packages (from tensorflow) (1.16.0)\n",
      "Requirement already satisfied: tensorboard<2.13,>=2.12 in /usr/local/lib/python3.10/dist-packages (from tensorflow) (2.12.2)\n",
      "Requirement already satisfied: termcolor>=1.1.0 in /usr/local/lib/python3.10/dist-packages (from tensorflow) (2.3.0)\n",
      "Requirement already satisfied: typing-extensions>=3.6.6 in /usr/local/lib/python3.10/dist-packages (from tensorflow) (4.5.0)\n",
      "Requirement already satisfied: wrapt<1.15,>=1.11.0 in /usr/local/lib/python3.10/dist-packages (from tensorflow) (1.14.1)\n",
      "Requirement already satisfied: tensorflow-io-gcs-filesystem>=0.23.1 in /usr/local/lib/python3.10/dist-packages (from tensorflow) (0.32.0)\n",
      "Requirement already satisfied: tensorflow-hub>=0.8.0 in /usr/local/lib/python3.10/dist-packages (from tensorflow-text) (0.13.0)\n",
      "Requirement already satisfied: wheel<1.0,>=0.23.0 in /usr/local/lib/python3.10/dist-packages (from astunparse>=1.6.0->tensorflow) (0.40.0)\n",
      "Requirement already satisfied: ml-dtypes>=0.0.3 in /usr/local/lib/python3.10/dist-packages (from jax>=0.3.15->tensorflow) (0.1.0)\n",
      "Requirement already satisfied: scipy>=1.7 in /usr/local/lib/python3.10/dist-packages (from jax>=0.3.15->tensorflow) (1.10.1)\n",
      "Requirement already satisfied: google-auth<3,>=1.6.3 in /usr/local/lib/python3.10/dist-packages (from tensorboard<2.13,>=2.12->tensorflow) (2.17.3)\n",
      "Requirement already satisfied: google-auth-oauthlib<1.1,>=0.5 in /usr/local/lib/python3.10/dist-packages (from tensorboard<2.13,>=2.12->tensorflow) (1.0.0)\n",
      "Requirement already satisfied: markdown>=2.6.8 in /usr/local/lib/python3.10/dist-packages (from tensorboard<2.13,>=2.12->tensorflow) (3.4.3)\n",
      "Requirement already satisfied: requests<3,>=2.21.0 in /usr/local/lib/python3.10/dist-packages (from tensorboard<2.13,>=2.12->tensorflow) (2.27.1)\n",
      "Requirement already satisfied: tensorboard-data-server<0.8.0,>=0.7.0 in /usr/local/lib/python3.10/dist-packages (from tensorboard<2.13,>=2.12->tensorflow) (0.7.0)\n",
      "Requirement already satisfied: tensorboard-plugin-wit>=1.6.0 in /usr/local/lib/python3.10/dist-packages (from tensorboard<2.13,>=2.12->tensorflow) (1.8.1)\n",
      "Requirement already satisfied: werkzeug>=1.0.1 in /usr/local/lib/python3.10/dist-packages (from tensorboard<2.13,>=2.12->tensorflow) (2.3.0)\n",
      "Requirement already satisfied: cachetools<6.0,>=2.0.0 in /usr/local/lib/python3.10/dist-packages (from google-auth<3,>=1.6.3->tensorboard<2.13,>=2.12->tensorflow) (5.3.0)\n",
      "Requirement already satisfied: pyasn1-modules>=0.2.1 in /usr/local/lib/python3.10/dist-packages (from google-auth<3,>=1.6.3->tensorboard<2.13,>=2.12->tensorflow) (0.3.0)\n",
      "Requirement already satisfied: rsa<5,>=3.1.4 in /usr/local/lib/python3.10/dist-packages (from google-auth<3,>=1.6.3->tensorboard<2.13,>=2.12->tensorflow) (4.9)\n",
      "Requirement already satisfied: requests-oauthlib>=0.7.0 in /usr/local/lib/python3.10/dist-packages (from google-auth-oauthlib<1.1,>=0.5->tensorboard<2.13,>=2.12->tensorflow) (1.3.1)\n",
      "Requirement already satisfied: urllib3<1.27,>=1.21.1 in /usr/local/lib/python3.10/dist-packages (from requests<3,>=2.21.0->tensorboard<2.13,>=2.12->tensorflow) (1.26.15)\n",
      "Requirement already satisfied: certifi>=2017.4.17 in /usr/local/lib/python3.10/dist-packages (from requests<3,>=2.21.0->tensorboard<2.13,>=2.12->tensorflow) (2022.12.7)\n",
      "Requirement already satisfied: charset-normalizer~=2.0.0 in /usr/local/lib/python3.10/dist-packages (from requests<3,>=2.21.0->tensorboard<2.13,>=2.12->tensorflow) (2.0.12)\n",
      "Requirement already satisfied: idna<4,>=2.5 in /usr/local/lib/python3.10/dist-packages (from requests<3,>=2.21.0->tensorboard<2.13,>=2.12->tensorflow) (3.4)\n",
      "Requirement already satisfied: MarkupSafe>=2.1.1 in /usr/local/lib/python3.10/dist-packages (from werkzeug>=1.0.1->tensorboard<2.13,>=2.12->tensorflow) (2.1.2)\n",
      "Requirement already satisfied: pyasn1<0.6.0,>=0.4.6 in /usr/local/lib/python3.10/dist-packages (from pyasn1-modules>=0.2.1->google-auth<3,>=1.6.3->tensorboard<2.13,>=2.12->tensorflow) (0.5.0)\n",
      "Requirement already satisfied: oauthlib>=3.0.0 in /usr/local/lib/python3.10/dist-packages (from requests-oauthlib>=0.7.0->google-auth-oauthlib<1.1,>=0.5->tensorboard<2.13,>=2.12->tensorflow) (3.2.2)\n",
      "Installing collected packages: tensorflow-text\n",
      "Successfully installed tensorflow-text-2.12.1\n"
     ]
    }
   ],
   "source": [
    "!apt install --allow-change-held-packages libcudnn8=8.7.0.84-1+cuda11.8\n",
    "!pip install tensorflow keras tensorflow-estimator tensorflow-text"
   ]
  },
  {
   "cell_type": "code",
   "execution_count": null,
   "metadata": {},
   "outputs": [
    {
     "name": "stdout",
     "output_type": "stream",
     "text": [
      "nvcc: NVIDIA (R) Cuda compiler driver\n",
      "Copyright (c) 2005-2022 NVIDIA Corporation\n",
      "Built on Wed_Sep_21_10:33:58_PDT_2022\n",
      "Cuda compilation tools, release 11.8, V11.8.89\n",
      "Build cuda_11.8.r11.8/compiler.31833905_0\n"
     ]
    }
   ],
   "source": [
    "!nvcc --version"
   ]
  },
  {
   "cell_type": "code",
   "execution_count": null,
   "metadata": {},
   "outputs": [
    {
     "name": "stdout",
     "output_type": "stream",
     "text": [
      "Looking in indexes: https://pypi.org/simple, https://us-python.pkg.dev/colab-wheels/public/simple/\n",
      "Requirement already satisfied: protobuf==3.20.3 in /usr/local/lib/python3.10/dist-packages (3.20.3)\n"
     ]
    }
   ],
   "source": [
    "!pip install protobuf==3.20.3"
   ]
  },
  {
   "cell_type": "code",
   "execution_count": null,
   "metadata": {},
   "outputs": [
    {
     "name": "stdout",
     "output_type": "stream",
     "text": [
      "Name: protobuf\n",
      "Version: 3.20.3\n",
      "Summary: Protocol Buffers\n",
      "Home-page: https://developers.google.com/protocol-buffers/\n",
      "Author: \n",
      "Author-email: \n",
      "License: BSD-3-Clause\n",
      "Location: /usr/local/lib/python3.10/dist-packages\n",
      "Requires: \n",
      "Required-by: google-api-core, google-cloud-bigquery, google-cloud-bigquery-storage, google-cloud-datastore, google-cloud-firestore, google-cloud-language, google-cloud-translate, googleapis-common-protos, grpcio-status, proto-plus, tensorboard, tensorflow, tensorflow-datasets, tensorflow-hub, tensorflow-metadata\n"
     ]
    }
   ],
   "source": [
    "!pip show protobuf"
   ]
  },
  {
   "cell_type": "code",
   "execution_count": null,
   "metadata": {},
   "outputs": [],
   "source": [
    "# !apt install --allow-change-held-packages libcudnn8=8.1.0.77-1+cuda11.2\n",
    "# !pip uninstall -y -q tensorflow keras tensorflow-estimator tensorflow-text\n",
    "# !pip install protobuf==3.20.3\n",
    "# !pip install -q -U tensorflow-text==2.11.0 tensorflow==2.11.0"
   ]
  },
  {
   "cell_type": "code",
   "execution_count": null,
   "metadata": {},
   "outputs": [],
   "source": [
    "from data_preprocessing import create_datasets, text_vectorization, process_text\n",
    "from model import Transformer, CustomSchedule, masked_loss, masked_acc\n",
    "\n",
    "import tensorflow as tf\n",
    "from tensorflow import keras\n",
    "\n",
    "import pandas as pd\n",
    "from timeit import default_timer as timer"
   ]
  },
  {
   "attachments": {},
   "cell_type": "markdown",
   "metadata": {},
   "source": [
    "## Support functions"
   ]
  },
  {
   "cell_type": "code",
   "execution_count": null,
   "metadata": {},
   "outputs": [],
   "source": [
    "train, val = create_datasets()\n",
    "context_text_processor, target_text_processor = text_vectorization(train)\n",
    "\n",
    "# print(context_text_processor.get_vocabulary()[:10])\n",
    "# print(target_text_processor.get_vocabulary()[:10])\n",
    "\n",
    "train_ds = train.map(lambda x, y: process_text(x, y, context_text_processor, target_text_processor), tf.data.AUTOTUNE)\n",
    "val_ds = val.map(lambda x, y: process_text(x, y, context_text_processor, target_text_processor), tf.data.AUTOTUNE)"
   ]
  },
  {
   "cell_type": "code",
   "execution_count": null,
   "metadata": {},
   "outputs": [],
   "source": [
    "def create_metrics(history, timing_callback, file_name):\n",
    "    try:\n",
    "        metrics = pd.read_csv('metrics/'+file_name+'.csv')\n",
    "    except:\n",
    "        metrics = pd.DataFrame(columns = ['loss', 'masked_acc', 'val_loss', 'val_masked_acc', 'training_time'])\n",
    "\n",
    "    new_metrics = pd.DataFrame(history.history)\n",
    "    times = timing_callback.logs  # Extraemos los valores numéricos de los tiempos de entrenamiento\n",
    "    new_metrics['training_time'] = times  # Agregamos la columna 'training_time' con los valores de 'times'\n",
    "    metrics = metrics.append(new_metrics, ignore_index=True)\n",
    "\n",
    "    metrics.to_csv('metrics/'+file_name+'.csv', index = False)"
   ]
  },
  {
   "cell_type": "code",
   "execution_count": null,
   "metadata": {},
   "outputs": [],
   "source": [
    "class TimingCallback(keras.callbacks.Callback):\n",
    "    def __init__(self, logs={}):\n",
    "        self.logs=[]\n",
    "    def on_epoch_begin(self, epoch, logs={}):\n",
    "        self.starttime = timer()\n",
    "    def on_epoch_end(self, epoch, logs={}):\n",
    "        self.logs.append(timer()-self.starttime)"
   ]
  },
  {
   "attachments": {},
   "cell_type": "markdown",
   "metadata": {},
   "source": [
    "## Model"
   ]
  },
  {
   "cell_type": "code",
   "execution_count": null,
   "metadata": {},
   "outputs": [],
   "source": [
    "#! Model\n",
    "num_layers = 6\n",
    "d_model = 256\n",
    "dff = 512\n",
    "num_heads = 8\n",
    "dropout_rate = 0.3"
   ]
  },
  {
   "cell_type": "code",
   "execution_count": null,
   "metadata": {},
   "outputs": [],
   "source": [
    "MODEL_NAME = 'it_en_20_' + str(num_layers) + '_' + str(d_model) + '_' + str(dff) + '_' + str(num_heads) + '_' + str(dropout_rate).replace('.','-')"
   ]
  },
  {
   "cell_type": "code",
   "execution_count": null,
   "metadata": {},
   "outputs": [],
   "source": [
    "transformer = Transformer(\n",
    "    num_layers = num_layers,\n",
    "    d_model = d_model,\n",
    "    num_heads = num_heads,\n",
    "    dff = dff,\n",
    "    input_vocab_size = context_text_processor.vocabulary_size(),\n",
    "    target_vocab_size = target_text_processor.vocabulary_size(),\n",
    "    dropout_rate = dropout_rate,\n",
    ")"
   ]
  },
  {
   "attachments": {},
   "cell_type": "markdown",
   "metadata": {},
   "source": [
    "## Training"
   ]
  },
  {
   "cell_type": "code",
   "execution_count": null,
   "metadata": {},
   "outputs": [],
   "source": [
    "#! Loss and Optimizer\n",
    "learning_rate = CustomSchedule(d_model)\n",
    "my_optimizer = tf.keras.optimizers.legacy.Adam(learning_rate, beta_1=0.9, beta_2=0.98, epsilon=1e-9)"
   ]
  },
  {
   "cell_type": "code",
   "execution_count": null,
   "metadata": {},
   "outputs": [],
   "source": [
    "#! Compile\n",
    "transformer.compile(\n",
    "    loss = masked_loss,\n",
    "    optimizer=my_optimizer,\n",
    "    metrics = [masked_acc],\n",
    ")"
   ]
  },
  {
   "cell_type": "code",
   "execution_count": null,
   "metadata": {},
   "outputs": [
    {
     "name": "stdout",
     "output_type": "stream",
     "text": [
      "Epoch 1/20\n",
      "820/820 [==============================] - 130s 133ms/step - loss: 7.7368 - masked_acc: 0.1020 - val_loss: 6.1841 - val_masked_acc: 0.1629\n",
      "Epoch 2/20\n",
      "820/820 [==============================] - 106s 129ms/step - loss: 5.9570 - masked_acc: 0.1888 - val_loss: 5.3559 - val_masked_acc: 0.2285\n",
      "Epoch 3/20\n",
      "820/820 [==============================] - 106s 129ms/step - loss: 5.2846 - masked_acc: 0.2406 - val_loss: 4.8782 - val_masked_acc: 0.2701\n",
      "Epoch 4/20\n",
      "820/820 [==============================] - 105s 129ms/step - loss: 4.8389 - masked_acc: 0.2824 - val_loss: 4.6134 - val_masked_acc: 0.3039\n",
      "Epoch 5/20\n",
      "820/820 [==============================] - 106s 129ms/step - loss: 4.4962 - masked_acc: 0.3184 - val_loss: 4.2441 - val_masked_acc: 0.3447\n",
      "Epoch 6/20\n",
      "820/820 [==============================] - 106s 129ms/step - loss: 4.1487 - masked_acc: 0.3556 - val_loss: 3.9899 - val_masked_acc: 0.3762\n",
      "Epoch 7/20\n",
      "820/820 [==============================] - 105s 128ms/step - loss: 3.8007 - masked_acc: 0.3928 - val_loss: 3.7327 - val_masked_acc: 0.4099\n",
      "Epoch 8/20\n",
      "820/820 [==============================] - 105s 129ms/step - loss: 3.5257 - masked_acc: 0.4229 - val_loss: 3.6428 - val_masked_acc: 0.4234\n",
      "Epoch 9/20\n",
      "820/820 [==============================] - 106s 129ms/step - loss: 3.3075 - masked_acc: 0.4467 - val_loss: 3.5034 - val_masked_acc: 0.4425\n",
      "Epoch 10/20\n",
      "820/820 [==============================] - 106s 129ms/step - loss: 3.1129 - masked_acc: 0.4689 - val_loss: 3.4666 - val_masked_acc: 0.4477\n",
      "Epoch 11/20\n",
      "820/820 [==============================] - 105s 129ms/step - loss: 2.9546 - masked_acc: 0.4868 - val_loss: 3.3981 - val_masked_acc: 0.4576\n",
      "Epoch 12/20\n",
      "820/820 [==============================] - 105s 128ms/step - loss: 2.8165 - masked_acc: 0.5034 - val_loss: 3.3904 - val_masked_acc: 0.4593\n",
      "Epoch 13/20\n",
      "820/820 [==============================] - 106s 129ms/step - loss: 2.6944 - masked_acc: 0.5183 - val_loss: 3.3721 - val_masked_acc: 0.4674\n",
      "Epoch 14/20\n",
      "820/820 [==============================] - 106s 129ms/step - loss: 2.5850 - masked_acc: 0.5322 - val_loss: 3.3320 - val_masked_acc: 0.4675\n",
      "Epoch 15/20\n",
      "820/820 [==============================] - 106s 129ms/step - loss: 2.4917 - masked_acc: 0.5449 - val_loss: 3.3543 - val_masked_acc: 0.4709\n",
      "Epoch 16/20\n",
      "820/820 [==============================] - 105s 128ms/step - loss: 2.4093 - masked_acc: 0.5554 - val_loss: 3.3405 - val_masked_acc: 0.4751\n",
      "Epoch 17/20\n",
      "820/820 [==============================] - 106s 129ms/step - loss: 2.3326 - masked_acc: 0.5660 - val_loss: 3.3325 - val_masked_acc: 0.4770\n",
      "Epoch 18/20\n",
      "820/820 [==============================] - 106s 129ms/step - loss: 2.2614 - masked_acc: 0.5751 - val_loss: 3.3486 - val_masked_acc: 0.4779\n",
      "Epoch 19/20\n",
      "820/820 [==============================] - 106s 130ms/step - loss: 2.1901 - masked_acc: 0.5850 - val_loss: 3.3686 - val_masked_acc: 0.4761\n",
      "Epoch 20/20\n",
      "820/820 [==============================] - 106s 129ms/step - loss: 2.1252 - masked_acc: 0.5942 - val_loss: 3.3599 - val_masked_acc: 0.4803\n"
     ]
    }
   ],
   "source": [
    "cb = TimingCallback()\n",
    "\n",
    "history = transformer.fit(\n",
    "    train_ds,\n",
    "    epochs = 20,\n",
    "    validation_data = val_ds,\n",
    "    callbacks=[cb],\n",
    ")"
   ]
  },
  {
   "cell_type": "code",
   "execution_count": null,
   "metadata": {},
   "outputs": [
    {
     "name": "stdout",
     "output_type": "stream",
     "text": [
      "[130.077532267, 105.67024501599997, 105.83800317700002, 105.46231849399999, 105.57558783900004, 105.69569916900002, 105.39370085000007, 105.48661185599997, 105.65916486900005, 105.54355527500002, 105.38775868300013, 105.20409616200004, 105.84611912700007, 105.86477933299989, 105.53615583300007, 105.32956427599993, 105.57967893399996, 105.66268045799984, 106.247742431, 105.82878853700004]\n",
      "2136.8897825860004\n"
     ]
    }
   ],
   "source": [
    "print(cb.logs)\n",
    "print(sum(cb.logs))"
   ]
  },
  {
   "cell_type": "code",
   "execution_count": null,
   "metadata": {},
   "outputs": [
    {
     "name": "stderr",
     "output_type": "stream",
     "text": [
      "<ipython-input-10-fc98d706bc66>:10: FutureWarning: The frame.append method is deprecated and will be removed from pandas in a future version. Use pandas.concat instead.\n",
      "  metrics = metrics.append(new_metrics, ignore_index=True)\n"
     ]
    }
   ],
   "source": [
    "create_metrics(history, cb, MODEL_NAME)"
   ]
  },
  {
   "cell_type": "code",
   "execution_count": null,
   "metadata": {},
   "outputs": [],
   "source": [
    "transformer.save_weights('weights/' + MODEL_NAME +  '.h5')"
   ]
  },
  {
   "cell_type": "code",
   "execution_count": null,
   "metadata": {},
   "outputs": [
    {
     "name": "stderr",
     "output_type": "stream",
     "text": [
      "WARNING:absl:Found untraced functions such as positional_embedding_layer_call_fn, positional_embedding_layer_call_and_return_conditional_losses, dropout_6_layer_call_fn, dropout_6_layer_call_and_return_conditional_losses, positional_embedding_1_layer_call_fn while saving (showing 5 of 528). These functions will not be directly callable after loading.\n"
     ]
    }
   ],
   "source": [
    "# Save model\n",
    "transformer.save('modelsFull/' + MODEL_NAME)"
   ]
  },
  {
   "cell_type": "code",
   "execution_count": null,
   "metadata": {},
   "outputs": [],
   "source": [
    "# Save the context vocabulary\n",
    "context_vocab = context_text_processor.get_vocabulary()\n",
    "with open('vocab/it_en_context_vocabulary.txt', 'w', encoding='utf-8') as f:\n",
    "    for token in context_vocab:\n",
    "        f.write(token + '\\n')\n",
    "\n",
    "# Save the target vocabulary\n",
    "target_vocab = target_text_processor.get_vocabulary()\n",
    "with open('vocab/it_en_target_vocabulary.txt', 'w', encoding='utf-8') as f:\n",
    "    for token in target_vocab:\n",
    "        f.write(token + '\\n')"
   ]
  },
  {
   "cell_type": "code",
   "execution_count": null,
   "metadata": {},
   "outputs": [
    {
     "name": "stdout",
     "output_type": "stream",
     "text": [
      "de_en_20_6_256_512_8_0-3.h5  en_it_20_6_256_512_8_0-3.h5\n",
      "en_es_20_6_256_512_8_0-3.h5  es_en__20_6_256_512_8_0-3.h5\n"
     ]
    }
   ],
   "source": [
    "%ls weights/"
   ]
  },
  {
   "attachments": {},
   "cell_type": "markdown",
   "metadata": {},
   "source": [
    "## Reload model"
   ]
  },
  {
   "cell_type": "code",
   "execution_count": null,
   "metadata": {},
   "outputs": [],
   "source": [
    "# # Load the vocabulary\n",
    "# with open('vocab/es_en_context_vocabulary.txt', 'r', encoding='utf-8') as f:\n",
    "#     context_loaded_vocab = [line.strip() for line in f]\n",
    "\n",
    "# # Load the vocabulary\n",
    "# with open('vocab/es_en_target_vocabulary.txt', 'r', encoding='utf-8') as f:\n",
    "#     target_loaded_vocab = [line.strip() for line in f]\n",
    "\n",
    "# # Then create a new TextVectorization layer using the loaded vocabulary\n",
    "# context_text_processor = tf.keras.layers.TextVectorization(\n",
    "#     max_tokens=MAX_VOCAB_SIZE,\n",
    "#     standardize=standardize_text,\n",
    "#     vocabulary=context_loaded_vocab,\n",
    "#     ragged=True,\n",
    "# )\n",
    "\n",
    "# target_text_processor = tf.keras.layers.TextVectorization(\n",
    "#     max_tokens=MAX_VOCAB_SIZE,\n",
    "#     standardize=standardize_text,\n",
    "#     vocabulary=target_loaded_vocab,\n",
    "#     ragged=True,\n",
    "# )\n",
    "\n",
    "# new_model = Transformer(\n",
    "#     num_layers = num_layers,\n",
    "#     d_model = d_model,\n",
    "#     num_heads = num_heads,\n",
    "#     dff = dff,\n",
    "#     input_vocab_size = context_text_processor.vocabulary_size(),\n",
    "#     target_vocab_size = target_text_processor.vocabulary_size(),\n",
    "#     dropout_rate = dropout_rate,\n",
    "# )\n",
    "\n",
    "# new_model.compile(\n",
    "#     loss = masked_loss,\n",
    "#     optimizer=my_optimizer,\n",
    "#     metrics = [masked_acc],\n",
    "# )\n",
    "# cb = TimingCallback()\n",
    "\n",
    "# # Llama al modelo con datos ficticios para construirlo\n",
    "# dummy_input = tf.ones((1, 1), dtype=tf.int32)\n",
    "# dummy_context = tf.ones((1, 1), dtype=tf.int32)\n",
    "# new_model((dummy_context, dummy_input), training=False)\n",
    "\n",
    "# # Construye el optimizador con las variables del modelo\n",
    "# # my_optimizer.build(new_model.trainable_variables)\n",
    "\n",
    "# new_model.load_weights('weights/' + MODEL_NAME, + '.h5')"
   ]
  },
  {
   "cell_type": "code",
   "execution_count": null,
   "metadata": {},
   "outputs": [],
   "source": [
    "# history = new_model.fit(\n",
    "#     train_ds,\n",
    "#     epochs = 3,\n",
    "#     validation_data = val_ds,\n",
    "#     callbacks=[cb],\n",
    "# )\n",
    "\n",
    "# create_metrics(history, cb, MODEL_NAME)\n",
    "# transformer.save_weights('weights/' + MODEL_NAME, + '.h5')"
   ]
  },
  {
   "cell_type": "code",
   "execution_count": null,
   "metadata": {},
   "outputs": [],
   "source": [
    "#@ Deprecated (use to restore the full model)\n",
    "\n",
    "# # Save model\n",
    "# transformer.save('model_en_es_0505_20')\n",
    "# reconstructed_model = keras.models.load_model(\"model_en_es_0505_20\", custom_objects={ 'CustomSchedule' : CustomSchedule, 'masked_loss': masked_loss, 'masked_acc': masked_acc })\n",
    "\n",
    "# np.testing.assert_allclose(\n",
    "#     transformer.predict(val_ds), reconstructed_model.predict(val_ds)\n",
    "# )\n",
    "\n",
    "# history = reconstructed_model.fit(\n",
    "#     train_ds,\n",
    "#     epochs = 3,\n",
    "#     validation_data = val_ds,\n",
    "#     callbacks=[cb],\n",
    "# )"
   ]
  }
 ],
 "metadata": {
  "accelerator": "GPU",
  "colab": {
   "gpuType": "A100",
   "machine_shape": "hm",
   "provenance": []
  },
  "gpuClass": "standard",
  "kernelspec": {
   "display_name": "Python 3",
   "name": "python3"
  },
  "language_info": {
   "name": "python"
  }
 },
 "nbformat": 4,
 "nbformat_minor": 0
}
